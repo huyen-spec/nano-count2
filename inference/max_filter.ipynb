{
 "cells": [
  {
   "cell_type": "code",
   "execution_count": 2,
   "metadata": {},
   "outputs": [],
   "source": [
    "from scipy import ndimage as ndi\n",
    "import matplotlib.pyplot as plt\n",
    "from skimage.feature import peak_local_max\n",
    "from skimage import data, img_as_float\n",
    "from PIL import Image\n",
    "import numpy as np\n",
    "import os\n",
    "from pathlib import Path\n",
    "import pdb\n",
    "import json"
   ]
  },
  {
   "cell_type": "code",
   "execution_count": 34,
   "metadata": {},
   "outputs": [],
   "source": [
    "def ground_truth_np(file_name):\n",
    "    js  = '/home/huyentn2/project/nano_count/segmentation_unet/inference/gt_all_count.json'\n",
    "\n",
    "    with open(js, 'r') as fp:\n",
    "        gt_count = json.load(fp)\n",
    "\n",
    "    if file_name in list(gt_count.keys()):\n",
    "        return gt_count[file_name]\n",
    "    return None"
   ]
  },
  {
   "cell_type": "code",
   "execution_count": 35,
   "metadata": {},
   "outputs": [
    {
     "data": {
      "text/plain": [
       "186"
      ]
     },
     "execution_count": 35,
     "metadata": {},
     "output_type": "execute_result"
    }
   ],
   "source": [
    "# ground_truth_np('Tianle60min-1fm375-aqu-DSC_2.png')"
   ]
  },
  {
   "cell_type": "code",
   "execution_count": 8,
   "metadata": {},
   "outputs": [
    {
     "data": {
      "text/plain": [
       "208"
      ]
     },
     "execution_count": 8,
     "metadata": {},
     "output_type": "execute_result"
    }
   ],
   "source": [
    "im = np.array(Image.open(input_dir))\n",
    "im.max()"
   ]
  },
  {
   "cell_type": "code",
   "execution_count": 31,
   "metadata": {},
   "outputs": [],
   "source": [
    "def get_peaks(input, min_dist, thr):\n",
    "    im = np.array(Image.open(input))\n",
    "\n",
    "    # image_max is the dilation of im with a 20*20 structuring element\n",
    "    # It is used within peak_local_max function\n",
    "    image_max = ndi.maximum_filter(im, size=5, mode='constant')\n",
    "\n",
    "    # Comparison between image_max and im to find the coordinates of local maxima\n",
    "    coordinates = peak_local_max(im, min_distance=min_dist, threshold_abs=thr)\n",
    "\n",
    "    print(input)\n",
    "    print(\"Num of peaks\", len(coordinates))\n",
    "\n",
    "    # # display results\n",
    "    fig, axes = plt.subplots(1, 3, figsize=(8, 3), sharex=True, sharey=True)\n",
    "    ax = axes.ravel()\n",
    "    ax[0].imshow(im, cmap=plt.cm.gray)\n",
    "    ax[0].axis('off')\n",
    "    ax[0].set_title('Original')\n",
    "\n",
    "    ax[1].imshow(image_max, cmap=plt.cm.gray)\n",
    "    ax[1].axis('off')\n",
    "    ax[1].set_title('Maximum filter')\n",
    "\n",
    "    ax[2].imshow(im, cmap=plt.cm.gray)\n",
    "    ax[2].autoscale(False)\n",
    "    # ax[2].plot(coordinates[:, 1], coordinates[:, 0], 'r.')\n",
    "    ax[2].scatter(coordinates[:, 1], coordinates[:, 0], s = 0.5, c = 'r')\n",
    "    ax[2].axis('off')\n",
    "    ax[2].set_title('Peak local max')\n",
    "\n",
    "    fig.tight_layout()\n",
    "\n",
    "    plt.show()\n",
    "\n",
    "    return len(coordinates)"
   ]
  },
  {
   "cell_type": "code",
   "execution_count": null,
   "metadata": {},
   "outputs": [],
   "source": [
    "input_dir = \"/home/huyentn2/project/nano_count/segmentation_unet/checkpoints_7_4/save_result/gray_pred_inv/fold0/Yang40min-1fm375-aqDMSO-DSC_3.png\"\n",
    "print(\"GT\", ground_truth_np('Yang40min-1fm375-aqDMSO-DSC_3.png'))\n",
    "min_dist = 10\n",
    "thr = 150\n",
    "\n",
    "get_peaks(input_dir, min_dist, thr)"
   ]
  },
  {
   "cell_type": "code",
   "execution_count": 1,
   "metadata": {},
   "outputs": [],
   "source": [
    "np.random.seed(100)\n",
    "\n",
    "input_dir = \"/home/huyentn2/project/nano_count/segmentation_unet/save_path/save_result/gray_pred_inv/fold0/\"\n",
    "\n",
    "def local_max_peaks(input, min_dist, thr):\n",
    "    im = np.array(Image.open(input))\n",
    "\n",
    "    # image_max is the dilation of im with a 20*20 structuring element\n",
    "    # It is used within peak_local_max function\n",
    "    image_max = ndi.maximum_filter(im, size=20, mode='constant')\n",
    "\n",
    "    # Comparison between image_max and im to find the coordinates of local maxima\n",
    "    coordinates = peak_local_max(im, min_distance=min_dist, threshold_abs=thr)\n",
    "\n",
    "    print(input)\n",
    "    print(\"Num of peaks\", len(coordinates))\n",
    "\n",
    "    # # display results\n",
    "    # fig, axes = plt.subplots(1, 3, figsize=(8, 3), sharex=True, sharey=True)\n",
    "    # ax = axes.ravel()\n",
    "    # ax[0].imshow(im, cmap=plt.cm.gray)\n",
    "    # ax[0].axis('off')\n",
    "    # ax[0].set_title('Original')\n",
    "\n",
    "    # ax[1].imshow(image_max, cmap=plt.cm.gray)\n",
    "    # ax[1].axis('off')\n",
    "    # ax[1].set_title('Maximum filter')\n",
    "\n",
    "    # ax[2].imshow(im, cmap=plt.cm.gray)\n",
    "    # ax[2].autoscale(False)\n",
    "    # ax[2].plot(coordinates[:, 1], coordinates[:, 0], 'r.')\n",
    "    # ax[2].axis('off')\n",
    "    # ax[2].set_title('Peak local max')\n",
    "\n",
    "    # fig.tight_layout()\n",
    "\n",
    "    # plt.show()\n",
    "\n",
    "    return len(coordinates)"
   ]
  },
  {
   "cell_type": "code",
   "execution_count": 2,
   "metadata": {},
   "outputs": [],
   "source": [
    "def get_count(input_dir, min_dist, thr):\n",
    "    dir = input_dir\n",
    "    file_list = os.listdir(dir)\n",
    "\n",
    "    count_pred = []\n",
    "    dict_pred = {}\n",
    "\n",
    "    for file in file_list:\n",
    "        input = dir + file\n",
    "        num_peaks = local_max_peaks(input, min_dist, thr)\n",
    "        count_pred.append(num_peaks)\n",
    "        dict_pred[file] = num_peaks\n",
    "\n",
    "    return count_pred, dict_pred\n"
   ]
  },
  {
   "cell_type": "code",
   "execution_count": 3,
   "metadata": {},
   "outputs": [],
   "source": [
    "def plot(input_dir, count_pred, count_gt, min_dist, thr, mae):\n",
    "    fig1 = plt.figure()\n",
    "    ax = plt.axes()\n",
    "    x = np.linspace(0, len(count_gt)-1, len(count_gt))\n",
    "    ax.plot(x, count_gt, 'b', label= 'gt')\n",
    "    ax.plot(x, count_pred, 'r', label= 'pred')\n",
    "\n",
    "    plt.xlabel('Image',fontsize=20,fontname='serif')\n",
    "    plt.ylabel('Num of particles',fontsize=20,fontname='serif')\n",
    "\n",
    "    plt.title(\"Threshold {} and Min distance {} : MAE {:.2f}\".format(thr, min_dist, mae))\n",
    "\n",
    "    font1 = {'family': 'serif',\n",
    "    'weight': 'normal',\n",
    "    'size': 7,\n",
    "    }\n",
    "\n",
    "    handles, labels = plt.gca().get_legend_handles_labels()\n",
    "    order = [len(handles)-x for x in range(1,len(handles)+1)]\n",
    "    plt.legend([handles[idx] for idx in order], [labels[idx] for idx in order],loc='lower left', prop=font1)\n",
    "    plt.grid(linestyle='--')\n",
    "    fig1.savefig(input_dir + 'Counting_performace_th{}_d{}'.format(thr, min_dist),bbox_inches='tight',dpi=300)\n",
    "    plt.clf()\n"
   ]
  },
  {
   "cell_type": "code",
   "execution_count": 8,
   "metadata": {},
   "outputs": [],
   "source": [
    "def single_img_count():\n",
    "    import json\n",
    "    js  = '/home/huyentn2/project/nano_count/segmentation_unet/inference/gt_all_count.json'\n",
    "\n",
    "    with open(js, 'r') as fp:\n",
    "        gt_count = json.load(fp)\n",
    "\n",
    "    count_gt = []\n",
    "    dict_gt = {}\n",
    "    for file in os.listdir(input_dir):\n",
    "        count = gt_count[file]\n",
    "        count_gt.append(count)\n",
    "        dict_gt[file] = count\n",
    "\n",
    "\n",
    "    # min_dist = 20\n",
    "    # thr = 125\n",
    "\n",
    "    min_dist_list = [5, 10, 15, 20, 25, 30]\n",
    "    thr_list = [75, 90, 100, 110, 120, 125, 130, 145, 150]\n",
    "\n",
    "    mae_dict = {}\n",
    "\n",
    "    for min_dist in min_dist_list:\n",
    "        for thr in thr_list:\n",
    "\n",
    "            count_pred, _  = get_count(input_dir, min_dist, thr)\n",
    "\n",
    "            a = np.array(count_gt)\n",
    "            b = np.array(count_pred)\n",
    "            mae = np.sum(np.abs(a - b))/ len(a)\n",
    "\n",
    "            mae_dict['thr_{}_dist_{}'.format(thr, min_dist)] = mae\n",
    "\n",
    "            # plot(input_dir, count_pred, count_gt, min_dist, thr, mae)\n",
    "\n",
    "    # pdb.set_trace()\n",
    "    min = mae_dict[list(mae_dict.keys())[0]]\n",
    "    key = None\n",
    "    for k in mae_dict:\n",
    "        if mae_dict[k] < min:\n",
    "            min = mae_dict[k]\n",
    "            key = k\n",
    "\n",
    "    print(key, min)"
   ]
  },
  {
   "cell_type": "code",
   "execution_count": 9,
   "metadata": {},
   "outputs": [
    {
     "ename": "FileNotFoundError",
     "evalue": "[Errno 2] No such file or directory: '/home/huyentn2/project/nano_count/segmentation_unet/save_path/save_result/gray_pred_inv/fold0/rs/'",
     "output_type": "error",
     "traceback": [
      "\u001b[0;31m---------------------------------------------------------------------------\u001b[0m",
      "\u001b[0;31mFileNotFoundError\u001b[0m                         Traceback (most recent call last)",
      "Cell \u001b[0;32mIn[9], line 63\u001b[0m\n\u001b[1;32m      1\u001b[0m \u001b[39mif\u001b[39;00m \u001b[39m__name__\u001b[39m \u001b[39m==\u001b[39m \u001b[39m\"\u001b[39m\u001b[39m__main__\u001b[39m\u001b[39m\"\u001b[39m:\n\u001b[1;32m      2\u001b[0m     \u001b[39m# import json\u001b[39;00m\n\u001b[1;32m      3\u001b[0m     \u001b[39m# js  = '/home/huyentn2/huyen/project/data_nano/gt_all_count.json'\u001b[39;00m\n\u001b[0;32m   (...)\u001b[0m\n\u001b[1;32m     56\u001b[0m     \u001b[39m#     print(\"counting of fold:\" , input_d)\u001b[39;00m\n\u001b[1;32m     57\u001b[0m     \u001b[39m#     print(key, min)\u001b[39;00m\n\u001b[0;32m---> 63\u001b[0m     single_img_count()\n",
      "Cell \u001b[0;32mIn[8], line 27\u001b[0m, in \u001b[0;36msingle_img_count\u001b[0;34m()\u001b[0m\n\u001b[1;32m     24\u001b[0m \u001b[39mfor\u001b[39;00m min_dist \u001b[39min\u001b[39;00m min_dist_list:\n\u001b[1;32m     25\u001b[0m     \u001b[39mfor\u001b[39;00m thr \u001b[39min\u001b[39;00m thr_list:\n\u001b[0;32m---> 27\u001b[0m         count_pred, _  \u001b[39m=\u001b[39m get_count(input_dir, min_dist, thr)\n\u001b[1;32m     29\u001b[0m         a \u001b[39m=\u001b[39m np\u001b[39m.\u001b[39marray(count_gt)\n\u001b[1;32m     30\u001b[0m         b \u001b[39m=\u001b[39m np\u001b[39m.\u001b[39marray(count_pred)\n",
      "Cell \u001b[0;32mIn[2], line 3\u001b[0m, in \u001b[0;36mget_count\u001b[0;34m(input_dir, min_dist, thr)\u001b[0m\n\u001b[1;32m      1\u001b[0m \u001b[39mdef\u001b[39;00m \u001b[39mget_count\u001b[39m(input_dir, min_dist, thr):\n\u001b[1;32m      2\u001b[0m     \u001b[39mdir\u001b[39m \u001b[39m=\u001b[39m input_dir \u001b[39m+\u001b[39m \u001b[39m\"\u001b[39m\u001b[39mrs/\u001b[39m\u001b[39m\"\u001b[39m\n\u001b[0;32m----> 3\u001b[0m     file_list \u001b[39m=\u001b[39m os\u001b[39m.\u001b[39;49mlistdir(\u001b[39mdir\u001b[39;49m)\n\u001b[1;32m      5\u001b[0m     count_pred \u001b[39m=\u001b[39m []\n\u001b[1;32m      6\u001b[0m     dict_pred \u001b[39m=\u001b[39m {}\n",
      "\u001b[0;31mFileNotFoundError\u001b[0m: [Errno 2] No such file or directory: '/home/huyentn2/project/nano_count/segmentation_unet/save_path/save_result/gray_pred_inv/fold0/rs/'"
     ]
    }
   ],
   "source": [
    "if __name__ == \"__main__\":\n",
    "    # import json\n",
    "    # js  = '/home/huyentn2/huyen/project/data_nano/gt_all_count.json'\n",
    "\n",
    "    # with open(js, 'r') as fp:\n",
    "    #     gt_count = json.load(fp)\n",
    "\n",
    "    # dir = \"/home/huyentn2/huyen/project/project_nano_count/segmentation_unet_/save_results/save_prediction_salmon/\"\n",
    "    # folds = ['fold0/', 'fold1/', 'fold2/', 'fold3/', 'fold4/', 'fold5/', 'fold6/', 'fold7/', 'fold8/', 'fold9/']\n",
    "\n",
    "    # input_dir_list = [dir + choice for choice in folds]\n",
    "\n",
    "    # for input_d in input_dir_list:\n",
    "    #     count_gt = []\n",
    "    #     dict_gt = {}\n",
    "    #     for file in os.listdir(input_d + 'rs/'):\n",
    "    #         count = gt_count[file]\n",
    "    #         count_gt.append(count)\n",
    "    #         dict_gt[file] = count\n",
    "\n",
    "\n",
    "    #     # min_dist = 20\n",
    "    #     # thr = 125\n",
    "\n",
    "    #     min_dist_list = [5, 10, 15, 20, 25, 30]\n",
    "    #     thr_list = [75, 90, 100, 110, 120, 125, 130, 145, 150]\n",
    "\n",
    "    #     mae_dict = {}\n",
    "\n",
    "    #     for min_dist in min_dist_list:\n",
    "    #         for thr in thr_list:\n",
    "\n",
    "    #             count_pred, _  = get_count(input_d, min_dist, thr)\n",
    "\n",
    "    #             a = np.array(count_gt)\n",
    "    #             b = np.array(count_pred)\n",
    "    #             mae = np.sum(np.abs(a - b))/ len(a)\n",
    "\n",
    "    #             mae_dict['thr_{}_dist_{}'.format(thr, min_dist)] = mae\n",
    "\n",
    "    #             # plot(input_d, count_pred, count_gt, min_dist, thr, mae)\n",
    "        \n",
    "    #     min = mae_dict[list(mae_dict.keys())[0]]\n",
    "    #     key = None\n",
    "    #     for k in mae_dict:\n",
    "    #         if mae_dict[k] < min:\n",
    "    #             min = mae_dict[k]\n",
    "    #             key = k\n",
    "\n",
    "    #     # pdb.set_trace()\n",
    "\n",
    "    #     m = int(key[4:7])\n",
    "    #     th = int(key[13:])\n",
    "    #     plot(input_d, count_pred, count_gt, m, th, min)\n",
    "\n",
    "    #     print(\"counting of fold:\" , input_d)\n",
    "    #     print(key, min)\n",
    "    \n",
    "\n",
    "\n",
    "\n",
    "\n",
    "    single_img_count()\n"
   ]
  },
  {
   "cell_type": "code",
   "execution_count": null,
   "metadata": {},
   "outputs": [],
   "source": []
  },
  {
   "cell_type": "code",
   "execution_count": null,
   "metadata": {},
   "outputs": [],
   "source": []
  }
 ],
 "metadata": {
  "kernelspec": {
   "display_name": "nano",
   "language": "python",
   "name": "python3"
  },
  "language_info": {
   "codemirror_mode": {
    "name": "ipython",
    "version": 3
   },
   "file_extension": ".py",
   "mimetype": "text/x-python",
   "name": "python",
   "nbconvert_exporter": "python",
   "pygments_lexer": "ipython3",
   "version": "3.10.9"
  },
  "orig_nbformat": 4
 },
 "nbformat": 4,
 "nbformat_minor": 2
}
