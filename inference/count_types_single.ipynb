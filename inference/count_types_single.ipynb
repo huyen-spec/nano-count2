{
 "cells": [
  {
   "cell_type": "code",
   "execution_count": 1,
   "metadata": {},
   "outputs": [
    {
     "name": "stderr",
     "output_type": "stream",
     "text": [
      "/home/huyentn2/.conda/envs/nano/lib/python3.10/site-packages/tqdm/auto.py:21: TqdmWarning: IProgress not found. Please update jupyter and ipywidgets. See https://ipywidgets.readthedocs.io/en/stable/user_install.html\n",
      "  from .autonotebook import tqdm as notebook_tqdm\n"
     ]
    }
   ],
   "source": [
    "import sys        \n",
    "sys.path.append('/home/huyentn2/project/nano_count/segmentation_unet/')\n",
    "\n",
    "from dataset import *\n",
    "from utils import *\n",
    "import torch.nn.functional  as F\n",
    "import numpy as np\n",
    "import torch\n",
    "from torch.utils.data import DataLoader, random_split\n",
    "from scipy.ndimage import label\n",
    "from utils import get_num_NP\n",
    "import matplotlib.pyplot as plt\n"
   ]
  },
  {
   "cell_type": "code",
   "execution_count": 2,
   "metadata": {},
   "outputs": [],
   "source": [
    "device = torch.device('cuda' if torch.cuda.is_available() else 'cpu')\n",
    "model = UNet(n_channels=1, n_classes= 2, bilinear= False)\n",
    "model = model.to(memory_format=torch.channels_last)\n",
    "model = torch.nn.DataParallel(model).cuda()\n",
    "\n",
    "checkpoint = torch.load(\"/home/huyentn2/project/nano_count/segmentation_unet/checkpoints_7_4/fold9/checkpoint_epoch15.pth\")\n",
    "\n",
    "model.load_state_dict(checkpoint)\n",
    "model.to(device=device)\n",
    "\n",
    "input_dir = \"/home/huyentn2/project/nano_count/segmentation_unet/data/img_patch/Tianle1ng_0208_3.png\"\n",
    "save_dir = \"/home/huyentn2/project/nano_count/segmentation_unet\"\n",
    "\n",
    "\n",
    "mask_pred = eval_single_count(input_dir,\n",
    "            save_dir,\n",
    "            model,\n",
    "            device,\n",
    "            img_scale=1.0,\n",
    "            )"
   ]
  },
  {
   "cell_type": "code",
   "execution_count": 3,
   "metadata": {},
   "outputs": [],
   "source": [
    "min_dist = 10\n",
    "max_fil_thr = 120\n",
    "bin_thr = 0.5\n",
    "range_rad = (10,200)\n",
    "type_count = \"2\""
   ]
  },
  {
   "cell_type": "code",
   "execution_count": 4,
   "metadata": {},
   "outputs": [
    {
     "name": "stderr",
     "output_type": "stream",
     "text": [
      "/home/huyentn2/.conda/envs/nano/lib/python3.10/site-packages/torch/nn/functional.py:1960: UserWarning: nn.functional.sigmoid is deprecated. Use torch.sigmoid instead.\n",
      "  warnings.warn(\"nn.functional.sigmoid is deprecated. Use torch.sigmoid instead.\")\n"
     ]
    },
    {
     "data": {
      "text/plain": [
       "36"
      ]
     },
     "execution_count": 4,
     "metadata": {},
     "output_type": "execute_result"
    }
   ],
   "source": [
    "get_num_NP(mask_pred, min_dist, max_fil_thr, bin_thr,  range_rad, type_count)"
   ]
  },
  {
   "cell_type": "code",
   "execution_count": null,
   "metadata": {},
   "outputs": [],
   "source": []
  },
  {
   "cell_type": "code",
   "execution_count": null,
   "metadata": {},
   "outputs": [],
   "source": []
  },
  {
   "cell_type": "code",
   "execution_count": null,
   "metadata": {},
   "outputs": [],
   "source": []
  },
  {
   "cell_type": "markdown",
   "metadata": {},
   "source": []
  },
  {
   "cell_type": "markdown",
   "metadata": {},
   "source": []
  },
  {
   "cell_type": "markdown",
   "metadata": {},
   "source": []
  },
  {
   "cell_type": "code",
   "execution_count": 17,
   "metadata": {},
   "outputs": [
    {
     "data": {
      "text/plain": [
       "tensor(0.7402)"
      ]
     },
     "execution_count": 17,
     "metadata": {},
     "output_type": "execute_result"
    }
   ],
   "source": []
  },
  {
   "attachments": {},
   "cell_type": "markdown",
   "metadata": {},
   "source": [
    "DRAFT TO GET THE COUNTS"
   ]
  },
  {
   "cell_type": "code",
   "execution_count": 2,
   "metadata": {},
   "outputs": [],
   "source": [
    "# import torch\n",
    "# from PIL import Image\n",
    "# from pathlib import Path\n",
    "# from tqdm import tqdm\n",
    "# from torch.utils.data import DataLoader, random_split\n",
    "# import torch.nn.functional  as F\n",
    "# import matplotlib.pyplot as plt\n",
    "# import os"
   ]
  },
  {
   "cell_type": "code",
   "execution_count": null,
   "metadata": {},
   "outputs": [],
   "source": [
    "device = torch.device('cuda' if torch.cuda.is_available() else 'cpu')\n",
    "model = UNet(n_channels=1, n_classes= 2, bilinear= False)\n",
    "model = model.to(memory_format=torch.channels_last)\n",
    "model = torch.nn.DataParallel(model).cuda()\n",
    "\n",
    "checkpoint = torch.load(\"/home/huyentn2/project/nano_count/segmentation_unet/checkpoints_7_4/fold9/checkpoint_epoch15.pth\")\n",
    "\n",
    "model.load_state_dict(checkpoint)\n",
    "model.to(device=device)"
   ]
  },
  {
   "cell_type": "code",
   "execution_count": 4,
   "metadata": {},
   "outputs": [],
   "source": [
    "input_dir = \"/home/huyentn2/project/nano_count/segmentation_unet/data/img_patch/Tianle1ng_0208_3.png\"\n",
    "save_dir = \"/home/huyentn2/project/nano_count/segmentation_unet\""
   ]
  },
  {
   "cell_type": "code",
   "execution_count": 5,
   "metadata": {},
   "outputs": [],
   "source": [
    "mask_pred = eval_single_count(input_dir,\n",
    "            save_dir,\n",
    "            model,\n",
    "            device,\n",
    "            img_scale=1.0,\n",
    "            )"
   ]
  },
  {
   "cell_type": "code",
   "execution_count": 6,
   "metadata": {},
   "outputs": [
    {
     "data": {
      "text/plain": [
       "torch.Size([1, 2, 600, 960])"
      ]
     },
     "execution_count": 6,
     "metadata": {},
     "output_type": "execute_result"
    }
   ],
   "source": [
    "mask_pred.shape\n",
    "mask_pred = mask_pred.cpu()\n",
    "mask_soft = F.one_hot(mask_pred.argmax(dim=1), model.module.n_classes).permute(0, 3, 1, 2).float().squeeze().numpy()\n",
    "\n",
    "bin_thr = 0.5\n",
    "mask_pred_0 = F.sigmoid(mask_pred).squeeze()[0,:].float()\n",
    "mask_pred_0 = torch.where(mask_pred_0> bin_thr, 1, 0).numpy()\n",
    "\n",
    "mask_pred_1 = F.sigmoid(mask_pred).squeeze()[1,:].float()\n",
    "mask_pred_1 = torch.where(mask_pred_1> bin_thr, 1, 0).numpy()\n"
   ]
  },
  {
   "cell_type": "code",
   "execution_count": 10,
   "metadata": {},
   "outputs": [
    {
     "data": {
      "text/plain": [
       "<matplotlib.image.AxesImage at 0x7fdb6c880be0>"
      ]
     },
     "execution_count": 10,
     "metadata": {},
     "output_type": "execute_result"
    },
    {
     "data": {
      "image/png": "[encoded data removed]",
      "text/plain": [
       "<Figure size 640x480 with 1 Axes>"
      ]
     },
     "metadata": {},
     "output_type": "display_data"
    }
   ],
   "source": [
    "import matplotlib.pyplot as plt\n",
    "plt.imshow(mask_pred_0)"
   ]
  },
  {
   "cell_type": "code",
   "execution_count": 11,
   "metadata": {},
   "outputs": [
    {
     "name": "stdout",
     "output_type": "stream",
     "text": [
      "52\n"
     ]
    },
    {
     "name": "stderr",
     "output_type": "stream",
     "text": [
      "/home/huyentn2/.conda/envs/nano/lib/python3.10/site-packages/torch/nn/functional.py:1960: UserWarning: nn.functional.sigmoid is deprecated. Use torch.sigmoid instead.\n",
      "  warnings.warn(\"nn.functional.sigmoid is deprecated. Use torch.sigmoid instead.\")\n"
     ]
    }
   ],
   "source": [
    "from scipy import ndimage as ndi\n",
    "from skimage.feature import peak_local_max\n",
    "\n",
    "im = F.sigmoid(mask_pred).squeeze()[1,:].numpy()\n",
    "min_dist = 10\n",
    "thr = 120\n",
    "\n",
    "\n",
    "image_max = ndi.maximum_filter(im, size=5, mode='constant')\n",
    "\n",
    "# Comparison between image_max and im to find the coordinates of local maxima\n",
    "coordinates = peak_local_max(im*255, min_distance=min_dist, threshold_abs=thr)\n",
    "\n",
    "print(len(coordinates))"
   ]
  },
  {
   "cell_type": "code",
   "execution_count": 12,
   "metadata": {},
   "outputs": [
    {
     "name": "stdout",
     "output_type": "stream",
     "text": [
      "44\n"
     ]
    }
   ],
   "source": [
    "im = (1-F.sigmoid(mask_pred)).squeeze()[0,:].numpy()\n",
    "min_dist = 10\n",
    "thr = 120\n",
    "\n",
    "\n",
    "image_max = ndi.maximum_filter(im, size=5, mode='constant')\n",
    "\n",
    "# Comparison between image_max and im to find the coordinates of local maxima\n",
    "coordinates = peak_local_max(im*255, min_distance=min_dist, threshold_abs=thr)\n",
    "\n",
    "print(len(coordinates))"
   ]
  },
  {
   "attachments": {},
   "cell_type": "markdown",
   "metadata": {},
   "source": [
    "Not use local maximum filter"
   ]
  },
  {
   "cell_type": "code",
   "execution_count": 83,
   "metadata": {},
   "outputs": [
    {
     "name": "stdout",
     "output_type": "stream",
     "text": [
      "44\n"
     ]
    },
    {
     "data": {
      "text/plain": [
       "<matplotlib.image.AxesImage at 0x7fdb67280c10>"
      ]
     },
     "execution_count": 83,
     "metadata": {},
     "output_type": "execute_result"
    },
    {
     "data": {
      "image/png": "[encoded data removed]",
      "text/plain": [
       "<Figure size 640x480 with 1 Axes>"
      ]
     },
     "metadata": {},
     "output_type": "display_data"
    }
   ],
   "source": [
    "import scipy\n",
    "from scipy import ndimage\n",
    "import matplotlib.pyplot as plt\n",
    "im = mask_soft[1,:]\n",
    "\n",
    "# smooth and threshold as image has compression artifacts (jpg)\n",
    "im = ndimage.gaussian_filter(im, 2)\n",
    "# im[im<10]=0\n",
    "blobs, number_of_blobs = ndimage.label(im)\n",
    "print(number_of_blobs)\n",
    "\n",
    "plt.imshow(blobs)\n"
   ]
  },
  {
   "cell_type": "markdown",
   "metadata": {},
   "source": []
  },
  {
   "cell_type": "code",
   "execution_count": 80,
   "metadata": {},
   "outputs": [
    {
     "name": "stdout",
     "output_type": "stream",
     "text": [
      "50\n",
      "61\n"
     ]
    },
    {
     "data": {
      "image/png": "[encoded data removed]",
      "text/plain": [
       "<Figure size 640x480 with 1 Axes>"
      ]
     },
     "metadata": {},
     "output_type": "display_data"
    }
   ],
   "source": [
    "im = mask_pred_1*255\n",
    "\n",
    "# smooth and threshold as image has compression artifacts (jpg)\n",
    "im = ndimage.gaussian_filter(im, 2)\n",
    "# im[im<10]=0\n",
    "blobs, number_of_blobs = ndimage.label(im)\n",
    "print(number_of_blobs)\n",
    "plt.imshow(blobs)\n",
    "\n",
    "\n",
    "\n",
    "np.unique(mask_pred_1)\n",
    "mask_pred_1.sum()/ len(np.unique(blobs))\n",
    "np.unique(blobs)\n",
    "\n",
    "l = []\n",
    "for i in range(51):    \n",
    "    reg = np.zeros((blobs.shape))\n",
    "    reg = blobs== i #np.where(blobs== i, 1, 0)\n",
    "\n",
    "    # print(reg.sum())\n",
    "    l.append(reg.sum())\n",
    "\n",
    "\n",
    "\n",
    "print(np.asarray(l).min())"
   ]
  },
  {
   "cell_type": "code",
   "execution_count": 17,
   "metadata": {},
   "outputs": [
    {
     "name": "stdout",
     "output_type": "stream",
     "text": [
      "39\n"
     ]
    },
    {
     "data": {
      "text/plain": [
       "<matplotlib.image.AxesImage at 0x7fdb69326a70>"
      ]
     },
     "execution_count": 17,
     "metadata": {},
     "output_type": "execute_result"
    },
    {
     "data": {
      "image/png": "[encoded data removed]",
      "text/plain": [
       "<Figure size 640x480 with 1 Axes>"
      ]
     },
     "metadata": {},
     "output_type": "display_data"
    }
   ],
   "source": [
    "im = (1-mask_pred_0)*255\n",
    "\n",
    "# smooth and threshold as image has compression artifacts (jpg)\n",
    "im = ndimage.gaussian_filter(im, 2)\n",
    "# im[im<10]=0\n",
    "blobs, number_of_blobs = ndimage.label(im)\n",
    "print(number_of_blobs)\n",
    "plt.imshow(blobs)"
   ]
  },
  {
   "cell_type": "code",
   "execution_count": null,
   "metadata": {},
   "outputs": [],
   "source": []
  }
 ],
 "metadata": {
  "kernelspec": {
   "display_name": "nano",
   "language": "python",
   "name": "python3"
  },
  "language_info": {
   "codemirror_mode": {
    "name": "ipython",
    "version": 3
   },
   "file_extension": ".py",
   "mimetype": "text/x-python",
   "name": "python",
   "nbconvert_exporter": "python",
   "pygments_lexer": "ipython3",
   "version": "3.10.9"
  },
  "orig_nbformat": 4
 },
 "nbformat": 4,
 "nbformat_minor": 2
}
